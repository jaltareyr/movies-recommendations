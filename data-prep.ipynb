{
 "cells": [
  {
   "cell_type": "code",
   "execution_count": 3,
   "metadata": {},
   "outputs": [],
   "source": [
    "import pandas as pd\n",
    "import gc\n",
    "import warnings; warnings.simplefilter('ignore')"
   ]
  },
  {
   "cell_type": "code",
   "execution_count": 25,
   "metadata": {},
   "outputs": [
    {
     "data": {
      "text/plain": [
       "((45466, 24), (46419, 2))"
      ]
     },
     "execution_count": 25,
     "metadata": {},
     "output_type": "execute_result"
    }
   ],
   "source": [
    "# read original data\n",
    "metadata = pd.read_csv(\"data/movies_metadata.csv\")\n",
    "keywords = pd.read_csv(\"data/keywords.csv\")\n",
    "\n",
    "metadata.shape, keywords.shape"
   ]
  },
  {
   "cell_type": "markdown",
   "metadata": {},
   "source": [
    "Let's remove low rated movies from our catalog. This way we get to keep our demo clean and fast. Additionally, It does not make much sense to recommend these movies anyway.\n",
    "\n",
    "We will use IMDB formula to decide movie rating,\n",
    "\n",
    "$$ \n",
    "Weighted\\ Rating\\ (WR) =  \\left(\\frac{v}{v+m}\\right) R + \\left(\\frac{m}{v+m}\\right) C\n",
    "$$\n",
    "\n",
    "where,\n",
    "\n",
    "- v is the number of votes for the movie\n",
    "- m is the minimum votes required to be listed in the chart\n",
    "- R is the average rating of the movie\n",
    "- C is the mean vote across the whole report"
   ]
  },
  {
   "cell_type": "code",
   "execution_count": 26,
   "metadata": {},
   "outputs": [
    {
     "data": {
      "text/plain": [
       "(9048, 25)"
      ]
     },
     "execution_count": 26,
     "metadata": {},
     "output_type": "execute_result"
    }
   ],
   "source": [
    "# Filtering out movies with no rating data\n",
    "metadata = metadata[metadata[\"vote_average\"].notna() == True]\n",
    "\n",
    "# Extracting the vote count and average vote for each movie\n",
    "v = metadata[\"vote_count\"]\n",
    "C = metadata[\"vote_average\"].mean()\n",
    "\n",
    "# Converting vote counts to integers for consistent operations\n",
    "vote_counts = metadata[\"vote_count\"].astype(int)\n",
    "\n",
    "# Defining m as the minimum number of votes required, here using the 80th percentile of vote counts\n",
    "m = vote_counts.quantile(0.80)\n",
    "\n",
    "# Filtering out movies with fewer votes than our threshold\n",
    "metadata = metadata[metadata[\"vote_count\"] > m]\n",
    "\n",
    "# Calculating the weighted rating (WR) for each movie using the IMDB formula\n",
    "WR = (v / (v + m)) * metadata[\"vote_average\"] + (m / (v + m)) * C\n",
    "\n",
    "# Adding the calculated WR to the metadata DataFrame\n",
    "metadata[\"WR\"] = WR\n",
    "\n",
    "metadata.shape"
   ]
  },
  {
   "cell_type": "code",
   "execution_count": 31,
   "metadata": {},
   "outputs": [
    {
     "data": {
      "text/plain": [
       "(9137, 2)"
      ]
     },
     "execution_count": 31,
     "metadata": {},
     "output_type": "execute_result"
    }
   ],
   "source": [
    "# Likewise, we will only keep the required movies keywords and discard remaining dataset\n",
    "keywords['id'] = keywords['id'].astype(str)\n",
    "\n",
    "keywords = keywords[keywords['id'].isin(metadata['id'])]\n",
    "\n",
    "keywords.shape"
   ]
  },
  {
   "cell_type": "code",
   "execution_count": 34,
   "metadata": {},
   "outputs": [],
   "source": [
    "# Saving the metadata and filtered_keywords DataFrames to CSV files\n",
    "metadata.to_csv(\"metadata_filtered.csv\", index=False)\n",
    "keywords.to_csv(\"keywords_filtered.csv\", index=False)"
   ]
  }
 ],
 "metadata": {
  "kernelspec": {
   "display_name": "venv",
   "language": "python",
   "name": "python3"
  },
  "language_info": {
   "codemirror_mode": {
    "name": "ipython",
    "version": 3
   },
   "file_extension": ".py",
   "mimetype": "text/x-python",
   "name": "python",
   "nbconvert_exporter": "python",
   "pygments_lexer": "ipython3",
   "version": "3.12.7"
  }
 },
 "nbformat": 4,
 "nbformat_minor": 2
}
